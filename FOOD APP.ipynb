{
 "cells": [
  {
   "cell_type": "code",
   "execution_count": 1,
   "id": "7af9a206",
   "metadata": {},
   "outputs": [],
   "source": [
    "#PLEASE DO NOT MODIFY THIS CELL\n",
    "\n",
    "import unittest\n",
    "from unittest.mock import patch"
   ]
  },
  {
   "cell_type": "markdown",
   "id": "253f74f6",
   "metadata": {},
   "source": [
    "# First Semester Project\n",
    "## Food Ordering Application\n",
    "A food vendor has approached you build a simple app to help theirs users order food. \n",
    "The vendor sells the following food items\n",
    "* Pizza at 6500 Naira\n",
    "* Burger at 3000 Naira\n",
    "* Noodles at 1300 Naira\n",
    "\n",
    "Write the code for each of these functions to accurately capture a users order and display a receipt to the user.\n",
    "\n",
    "NOTE: Users can order multiple items in different quantities"
   ]
  },
  {
   "cell_type": "markdown",
   "id": "ff7d8692",
   "metadata": {},
   "source": [
    "## INSTRUCTIONS\n",
    "* Only type in the areas where you see the comment **\"#Your Code Here\"**.\n",
    "* Delete this line **\"raise NotImplementedError()\"** you will find it directly under the **\"#Your code here\"** comment.\n",
    "* Rename the file to the email you used in registering for this course.\n",
    "* Do not delete any cells or change what is written in them except for the cells that you are supposed to write on.\n",
    "* This project is worth 30 Marks so take it seriously and adhere strictly to the instructions."
   ]
  },
  {
   "cell_type": "code",
   "execution_count": 2,
   "id": "ba7af213",
   "metadata": {},
   "outputs": [],
   "source": [
    "#PLEASE DO NOT MODIFY THIS CELL\n",
    "\n",
    "def display_menu():\n",
    "    \"\"\"\n",
    "    Description: Prints the menu options for the food items available in the ordering app.\n",
    "                 since the app only has 3 food items you can order we add a fourth option to exit\n",
    "                 the menu when they are done ordering.\n",
    "    \"\"\"\n",
    "    print(\"Menu:\")\n",
    "    print(\"1. Pizza - 6500\")\n",
    "    print(\"2. Burger - 3000\")\n",
    "    print(\"3. Noodles - 1300\")\n",
    "    print(\"4. Exit Menu\")"
   ]
  },
  {
   "cell_type": "code",
   "execution_count": 3,
   "id": "223bdecd",
   "metadata": {},
   "outputs": [],
   "source": [
    "def get_user_choice():\n",
    "    \"\"\"\n",
    "    Description: Takes user input to get the number corresponding to the chosen food item from the menu.\n",
    "                 Ensures the input is a valid choice between 1 and 4.\n",
    "\n",
    "                 If the user types a valid number that is not between 1 and 4, return the ERROR\n",
    "    \"\"\"\n",
    "    while True:\n",
    "       try:\n",
    "           choice = int(input(\"Enter your choice: \"))\n",
    "           if 1 <= choice <= 3:\n",
    "               return choice\n",
    "           elif choice == 4:    # Exit option\n",
    "                return None\n",
    "           else:\n",
    "               print(\"Invalid choice. Please enter a valid option (1-3, or 4 to exit).\")\n",
    "       except ValueError:\n",
    "           print(\"Invalid input. Please enter a number.\")"
   ]
  },
  {
   "cell_type": "code",
   "execution_count": 4,
   "id": "677fcc88",
   "metadata": {},
   "outputs": [
    {
     "name": "stdout",
     "output_type": "stream",
     "text": [
      "Invalid input. Please enter a number.\n",
      "Invalid choice. Please enter a valid option (1-3, or 4 to exit).\n"
     ]
    }
   ],
   "source": [
    "#PLEASE DO NOT MODIFY THIS CELL\n",
    "\n",
    "class TestGetUserChoice(unittest.TestCase):\n",
    "    @patch('builtins.input', side_effect=['2'])\n",
    "    def test_valid_choice(self, mock_input):\n",
    "        result = get_user_choice()\n",
    "        self.assertEqual(result, 2)\n",
    "\n",
    "    @patch('builtins.input', side_effect=['invalid', '3'])\n",
    "    def test_invalid_then_valid_choice(self, mock_input):\n",
    "        result = get_user_choice()\n",
    "        self.assertEqual(result, 3)\n",
    "\n",
    "    @patch('builtins.input', side_effect=['5', '4'])\n",
    "    def test_invalid_then_exit_choice(self, mock_input):\n",
    "        result = get_user_choice()\n",
    "        self.assertIsNone(result)\n",
    "\n",
    "tester = TestGetUserChoice()\n",
    "tester.test_valid_choice()\n",
    "tester.test_invalid_then_valid_choice()\n",
    "tester.test_invalid_then_exit_choice()"
   ]
  },
  {
   "cell_type": "code",
   "execution_count": 5,
   "id": "f55497dd",
   "metadata": {},
   "outputs": [],
   "source": [
    "def get_quantity():\n",
    "    \"\"\"\n",
    "    Description: Takes user input to get the quantity of the selected food item.\n",
    "                 and ensures the input is a positive integer.\n",
    "    \"\"\"\n",
    "    while True:\n",
    "        try:\n",
    "            quantity = int(input(\"Enter quantity: \"))\n",
    "            if quantity > 0:\n",
    "                    return quantity\n",
    "            else:\n",
    "                    print(\"Quantity must be a positive number.\")\n",
    "        except ValueError:\n",
    "              print(\"Invalid input. Please enter a number.\")"
   ]
  },
  {
   "cell_type": "code",
   "execution_count": 6,
   "id": "25c74e26",
   "metadata": {},
   "outputs": [
    {
     "name": "stdout",
     "output_type": "stream",
     "text": [
      "Invalid input. Please enter a number.\n",
      "Quantity must be a positive number.\n",
      "Quantity must be a positive number.\n"
     ]
    }
   ],
   "source": [
    "#PLEASE DO NOT MODIFY THIS CELL\n",
    "\n",
    "class TestGetQuantity(unittest.TestCase):\n",
    "    @patch('builtins.input', side_effect=['3'])\n",
    "    def test_valid_quantity(self, mock_input):\n",
    "        result = get_quantity()\n",
    "        self.assertEqual(result, 3)\n",
    "\n",
    "    @patch('builtins.input', side_effect=['invalid', '5'])\n",
    "    def test_invalid_then_valid_quantity(self, mock_input):\n",
    "        result = get_quantity()\n",
    "        self.assertEqual(result, 5)\n",
    "\n",
    "    @patch('builtins.input', side_effect=['0', '-2', '4'])\n",
    "    def test_invalid_then_valid_quantity_with_negative_input(self, mock_input):\n",
    "        result = get_quantity()\n",
    "        self.assertEqual(result, 4)\n",
    "\n",
    "tester = TestGetQuantity()\n",
    "tester.test_valid_quantity()\n",
    "tester.test_invalid_then_valid_quantity()\n",
    "tester.test_invalid_then_valid_quantity_with_negative_input()"
   ]
  },
  {
   "cell_type": "code",
   "execution_count": 7,
   "id": "8f23f0a4",
   "metadata": {},
   "outputs": [],
   "source": [
    "def get_item_name(choice):\n",
    "    \"\"\"\n",
    "    Description: Retrieves and returns the name of a food item based on the user's choice from the menu.\n",
    "    \"\"\"\n",
    "    menu = {1: \"Pizza\", 2: \"Burger\", 3: \"Noodles\"}\n",
    "      \n",
    "    return menu.get(choice)"
   ]
  },
  {
   "cell_type": "code",
   "execution_count": 8,
   "id": "f94404ff",
   "metadata": {},
   "outputs": [],
   "source": [
    "#PLEASE DO NOT MODIFY THIS CELL\n",
    "\n",
    "assert get_item_name(1) == 'Pizza'\n",
    "assert get_item_name(2) == 'Burger'\n",
    "assert get_item_name(3) == 'Noodles'"
   ]
  },
  {
   "cell_type": "code",
   "execution_count": 9,
   "id": "2f73287d",
   "metadata": {},
   "outputs": [],
   "source": [
    "def get_item_price(choice):\n",
    "    \"\"\"\n",
    "    Description: Retrieves and returns the price of a food item based on the user's choice from the menu.\n",
    "    \"\"\"\n",
    "    prices = {1: 6500, 2: 3000, 3: 1300}\n",
    "\n",
    "    return prices.get(choice)"
   ]
  },
  {
   "cell_type": "code",
   "execution_count": 10,
   "id": "b0fd417b",
   "metadata": {},
   "outputs": [],
   "source": [
    "assert get_item_price(1) == 6500\n",
    "assert get_item_price(2) == 3000\n",
    "assert get_item_price(3) == 1300"
   ]
  },
  {
   "cell_type": "code",
   "execution_count": 11,
   "id": "73dc66b4",
   "metadata": {},
   "outputs": [],
   "source": [
    "def calculate_total_price(item_price, quantity):\n",
    "    \"\"\"\n",
    "    Description: Calculates and returns the total price of a specific food item based on its price and the quantity ordered.\n",
    "    \"\"\"\n",
    "    return item_price * quantity"
   ]
  },
  {
   "cell_type": "code",
   "execution_count": 12,
   "id": "e6b3fe6b",
   "metadata": {},
   "outputs": [],
   "source": [
    "#PLEASE DO NOT MODIFY THIS CELL\n",
    "\n",
    "assert calculate_total_price(5, 2) == 10"
   ]
  },
  {
   "cell_type": "code",
   "execution_count": 13,
   "id": "a4e5858c",
   "metadata": {},
   "outputs": [],
   "source": [
    "def place_order():\n",
    "    \"\"\"\n",
    "    Description: Manages the process of adding items to a shopping cart. \n",
    "                 USE A DICTIONARY FOR THE CART.\n",
    "                 Calls other functions to get user choices, quantities, and calculates total prices.\n",
    "\n",
    "                 Your cart should look something like this assuming this user ordered 3 pizzas and 3 burgers.\n",
    "                 {\n",
    "                    'Pizza': {'quantity': 3, 'total_price': 19500},\n",
    "                    'Burger': {'quantity': 3, 'total_price': 9000}\n",
    "                 }\n",
    "    \"\"\"\n",
    "    cart = {}\n",
    "    display_menu()\n",
    "    for n in range(3):\n",
    "        try:\n",
    "            choice = get_user_choice()\n",
    "        except ValueError:\n",
    "            raise\n",
    "        item_price = get_item_price(choice)\n",
    "        if choice is not None:\n",
    "            quantity = get_quantity()\n",
    "            try:\n",
    "                total_price = calculate_total_price(item_price, quantity)\n",
    "                item_name = get_item_name(choice)\n",
    "                if item_name is not None:\n",
    "                    cart.update({item_name: {\"quantity\":quantity, \"total_price\":total_price }})\n",
    "            except ValueError:\n",
    "                raise\n",
    "    return cart"
   ]
  },
  {
   "cell_type": "code",
   "execution_count": 14,
   "id": "05b55a8a",
   "metadata": {},
   "outputs": [
    {
     "name": "stdout",
     "output_type": "stream",
     "text": [
      "Menu:\n",
      "1. Pizza - 6500\n",
      "2. Burger - 3000\n",
      "3. Noodles - 1300\n",
      "4. Exit Menu\n"
     ]
    }
   ],
   "source": [
    "#PLEASE DO NOT MODIFY THIS CELL\n",
    "\n",
    "class TestPlaceOrder(unittest.TestCase):\n",
    "    @patch('__main__.get_user_choice', side_effect=[1, 2, None])\n",
    "    @patch('__main__.get_quantity', return_value=3)\n",
    "    def test_place_order(self, mock_get_quantity, mock_get_user_choice):\n",
    "        result = place_order()\n",
    "\n",
    "        # Assertions based on the expected behavior of place_order\n",
    "        expected_result = {'Pizza': {'quantity': 3, 'total_price': 19500},\n",
    "                           'Burger': {'quantity': 3, 'total_price': 9000}}\n",
    "        self.assertEqual(result, expected_result)\n",
    "\n",
    "        # Check that get_user_choice was called three times\n",
    "        self.assertEqual(mock_get_user_choice.call_count, 3)\n",
    "\n",
    "        # Check that get_quantity was called twice (for the two items added)\n",
    "        self.assertEqual(mock_get_quantity.call_count, 2)\n",
    "\n",
    "tester = TestPlaceOrder()\n",
    "tester.test_place_order()"
   ]
  },
  {
   "cell_type": "code",
   "execution_count": 15,
   "id": "4f2b56de",
   "metadata": {},
   "outputs": [],
   "source": [
    "def check_out(cart):\n",
    "    \"\"\"\n",
    "    Description: Finalizes the order by displaying the contents of the shopping cart, including quantities and total prices.\n",
    "                 Prints the total order price like a receipt.\n",
    "\n",
    "                 The reciept would look like this if the cart is empty\n",
    "                 \n",
    "                     Your cart is empty. No items to check out.\n",
    "\n",
    "\n",
    "                 If the Cart is has items in it then the receipt should look like this\n",
    "\n",
    "                     Checking out...\n",
    "                     Your order details:\n",
    "                     Item 1: Quantity - 2, Total Price - $20\n",
    "                     Item 2: Quantity - 3, Total Price - $15\n",
    "                     Total Order Price: $35\n",
    "                     Thank you for ordering!\n",
    "    \"\"\"\n",
    "    if not cart:\n",
    "        print(\"Your cart is empty. No items to check out.\")\n",
    "    else:\n",
    "        print(\"Checking out...\")\n",
    "        print(\"Your order details:\")\n",
    "        for item_name, item_details in cart.items():\n",
    "            print(f\"{item_name}: Quantity - {item_details['quantity']}, Total Price - ${item_details['total_price']}\")  # Item details\n",
    "        total_order_price = sum(item_details[\"total_price\"] for item_details in cart.values())\n",
    "        print(\"Total Order Price: \" + f\"${total_order_price}\")  \n",
    "        print(\"Thank you for ordering!\") "
   ]
  },
  {
   "cell_type": "code",
   "execution_count": 16,
   "id": "48d4af91",
   "metadata": {},
   "outputs": [],
   "source": [
    "#PLEASE DO NOT MODIFY THIS CELL\n",
    "\n",
    "class TestCheckOut(unittest.TestCase):\n",
    "    @patch('builtins.print')\n",
    "    def test_check_out_empty_cart(self, mock_print):\n",
    "        cart = {}\n",
    "        check_out(cart)\n",
    "        mock_print.assert_called_with(\"Your cart is empty. No items to check out.\")\n",
    "\n",
    "    @patch('builtins.print')\n",
    "    def test_check_out_non_empty_cart(self, mock_print):\n",
    "        cart = {\n",
    "            'Item 1': {'quantity': 2, 'total_price': 20},\n",
    "            'Item 2': {'quantity': 3, 'total_price': 15}\n",
    "        }\n",
    "        check_out(cart)\n",
    "\n",
    "        # Verify that the expected output was printed\n",
    "        expected_output = [\n",
    "            \"Checking out...\",\n",
    "            \"Your order details:\",\n",
    "            \"Item 1: Quantity - 2, Total Price - $20\",\n",
    "            \"Item 2: Quantity - 3, Total Price - $15\",\n",
    "            \"Total Order Price: $35\",\n",
    "            \"Thank you for ordering!\"\n",
    "        ]\n",
    "        calls = [unittest.mock.call(output) for output in expected_output]\n",
    "        mock_print.assert_has_calls(calls, any_order=False)\n",
    "\n",
    "tester = TestCheckOut()\n",
    "tester.test_check_out_empty_cart()\n",
    "tester.test_check_out_non_empty_cart()"
   ]
  },
  {
   "cell_type": "code",
   "execution_count": 17,
   "id": "afb9004c",
   "metadata": {},
   "outputs": [],
   "source": [
    "#PLEASE DO NOT MODIFY THIS CELL\n",
    "\n",
    "def food_ordering_app():\n",
    "    \"\"\"\n",
    "    Description: The main function that initiates the food ordering application.\n",
    "                 Calls place_order() to build the shopping cart and then calls check_out() to complete the order.\n",
    "\n",
    "                 NOTE THAT IF ANY OF THE OTHER FUNCTIONS ARE NOT CORRECTLY WRITTEN THIS WILL FAIL\n",
    "                 PLEASE DO NOT MODIFY THIS CELL\n",
    "    \"\"\"\n",
    "    print(\"Welcome to the Food Ordering App!\")\n",
    "    cart = place_order()\n",
    "    check_out(cart)"
   ]
  },
  {
   "cell_type": "code",
   "execution_count": 18,
   "id": "19857a77",
   "metadata": {},
   "outputs": [],
   "source": [
    "#PLEASE DO NOT MODIFY THIS CELL\n",
    "\n",
    "class TestFoodOrderingApp(unittest.TestCase):\n",
    "    @patch('builtins.print')\n",
    "    @patch('__main__.place_order', return_value={'Item 1': {'quantity': 2, 'total_price': 20}})\n",
    "    @patch('__main__.check_out')\n",
    "    def test_food_ordering_app(self, mock_check_out, mock_place_order, mock_print):\n",
    "        food_ordering_app()\n",
    "\n",
    "        # Verify that the expected calls were made\n",
    "        mock_print.assert_called_with(\"Welcome to the Food Ordering App!\")\n",
    "        mock_place_order.assert_called_once()\n",
    "        mock_check_out.assert_called_once()\n",
    "\n",
    "tester = TestFoodOrderingApp()\n",
    "tester.test_food_ordering_app()"
   ]
  },
  {
   "cell_type": "code",
   "execution_count": 19,
   "id": "bdae8b22",
   "metadata": {},
   "outputs": [
    {
     "name": "stdout",
     "output_type": "stream",
     "text": [
      "Welcome to the Food Ordering App!\n",
      "Menu:\n",
      "1. Pizza - 6500\n",
      "2. Burger - 3000\n",
      "3. Noodles - 1300\n",
      "4. Exit Menu\n",
      "Enter your choice: 1\n",
      "Enter quantity: 2\n",
      "Enter your choice: 2\n",
      "Enter quantity: 1\n",
      "Enter your choice: 3\n",
      "Enter quantity: 3\n",
      "Checking out...\n",
      "Your order details:\n",
      "Pizza: Quantity - 2, Total Price - $13000\n",
      "Burger: Quantity - 1, Total Price - $3000\n",
      "Noodles: Quantity - 3, Total Price - $3900\n",
      "Total Order Price: $19900\n",
      "Thank you for ordering!\n"
     ]
    }
   ],
   "source": [
    "food_ordering_app()"
   ]
  },
  {
   "cell_type": "code",
   "execution_count": null,
   "id": "b7cf647d",
   "metadata": {},
   "outputs": [],
   "source": []
  }
 ],
 "metadata": {
  "kernelspec": {
   "display_name": "Python 3 (ipykernel)",
   "language": "python",
   "name": "python3"
  },
  "language_info": {
   "codemirror_mode": {
    "name": "ipython",
    "version": 3
   },
   "file_extension": ".py",
   "mimetype": "text/x-python",
   "name": "python",
   "nbconvert_exporter": "python",
   "pygments_lexer": "ipython3",
   "version": "3.11.3"
  }
 },
 "nbformat": 4,
 "nbformat_minor": 5
}
